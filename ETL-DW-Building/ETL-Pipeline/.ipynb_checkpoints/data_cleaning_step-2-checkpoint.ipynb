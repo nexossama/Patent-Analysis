{
 "cells": [
  {
   "cell_type": "markdown",
   "metadata": {},
   "source": [
    "# Silver Layer(1) - Data Cleaning "
   ]
  },
  {
   "cell_type": "code",
   "execution_count": 1,
   "metadata": {},
   "outputs": [
    {
     "data": {
      "text/html": [
       "<style>pre {white-space:pre !important;}</style> "
      ],
      "text/plain": [
       "<IPython.core.display.HTML object>"
      ]
     },
     "metadata": {},
     "output_type": "display_data"
    }
   ],
   "source": [
    "## To display notebook cell with horizontal scroll bar\n",
    "from IPython.display import display,HTML\n",
    "display(HTML(\"<style>pre {white-space:pre !important;}</style> \"))"
   ]
  },
  {
   "cell_type": "code",
   "execution_count": 2,
   "metadata": {},
   "outputs": [],
   "source": [
    "from pyspark.sql.functions import lit\n",
    "import findspark\n",
    "from pyspark.sql import SparkSession\n",
    "import pandas as pd\n",
    "from pyspark.sql.types import StringType"
   ]
  },
  {
   "cell_type": "code",
   "execution_count": 3,
   "metadata": {},
   "outputs": [],
   "source": [
    "findspark.init()\n",
    "\n",
    "spark = SparkSession.builder.getOrCreate()\n",
    "\n",
    "sc = spark.sparkContext"
   ]
  },
  {
   "cell_type": "code",
   "execution_count": 4,
   "metadata": {},
   "outputs": [],
   "source": [
    "patents = spark.read.json('raw-data/patents.json',multiLine=True)"
   ]
  },
  {
   "cell_type": "code",
   "execution_count": 5,
   "metadata": {},
   "outputs": [
    {
     "name": "stdout",
     "output_type": "stream",
     "text": [
      "+---------------------------------+--------------------+----------------+---------------------+------------------+-----------------------+------------------------+--------------+-----------+----------------------+-----------------------+----------+--------------------+--------------------+-------------+----------+------+--------------------+\n",
      "|                    abstract_text|          applicants|application date|assignee_name_current|assignee_name_orig|backward_cite_no_family|backward_cite_yes_family|          code|filing_date|forward_cite_no_family|forward_cite_yes_family|grant_date|       inventor_name|                link|priority_date|  pub_date|source|               title|\n",
      "+---------------------------------+--------------------+----------------+---------------------+------------------+-----------------------+------------------------+--------------+-----------+----------------------+-----------------------+----------+--------------------+--------------------+-------------+----------+------+--------------------+\n",
      "|             The present teach...|[Fresenius Medica...|      2023-10-31|                   []|                []|                     []|                      []|US2024074680A1|           |                    []|                     []|          |[Cherif Alhaji, K...|https://worldwide...|   2020-06-09|2024-03-07|   OPS|Detecting and mon...|\n",
      "|실시예들에 따른 딥러닝 기반 스...|[Hyundai Mobis Co...|      2022-08-18|                   []|                []|                     []|                      []|KR20240025248A|           |                    []|                     []|          |[Roh Hyeon Jin, K...|https://worldwide...|   2020-06-09|2024-02-27|   OPS|A method of teach...|\n",
      "|                                 |[National Penghu ...|      2022-11-23|                   []|                []|                     []|                      []|    TWI824842B|           |                    []|                     []|          |[Chen Liang Bi, H...|https://worldwide...|   2020-06-09|2023-12-01|   OPS|Handwriting teach...|\n",
      "|             A method for dete...| [Bosch Gmbh Robert]|      2023-05-18|                   []|                []|                     []|                      []|US2024066692A1|           |                    []|                     []|          |[Reuss Moritz, Va...|https://worldwide...|   2020-06-09|2024-02-29|   OPS|Method for determ...|\n",
      "|             An information pr...|[Fujifilm Busines...|      2023-03-07|                   []|                []|                     []|                      []|US2024062158A1|           |                    []|                     []|          | [Watanabe Takehito]|https://worldwide...|   2020-06-09|2024-02-22|   OPS|Information proce...|\n",
      "|             The present teach...|[Verizon Patent &...|      2022-08-16|                   []|                []|                     []|                      []|US2024064345A1|           |                    []|                     []|          |[Bheemarasetty Ra...|https://worldwide...|   2020-06-09|2024-02-22|   OPS|System and method...|\n",
      "|             A method for teac...|        [Siemens Ag]|      2023-08-03|                   []|                []|                     []|                      []|US2024046146A1|           |                    []|                     []|          |[Limmer Steffen, ...|https://worldwide...|   2020-06-09|2024-02-08|   OPS|Method for teachi...|\n",
      "|             The invention pro...|[Univ Northwest N...|      2023-12-04|                   []|                []|                     []|                      []|  CN117493695A|           |                    []|                     []|          |[Guo Weitong, Yan...|https://worldwide...|   2020-06-09|2024-02-02|   OPS|Artificial intell...|\n",
      "|             The invention rel...|[Hangzhou Ruishu ...|      2023-11-03|                   []|                []|                     []|                      []|  CN117496595A|           |                    []|                     []|          |[Wu Zhongyu, Xu X...|https://worldwide...|   2020-06-09|2024-02-02|   OPS|Teaching data ana...|\n",
      "|             A sleep state pre...|[Health Sensing C...|      2021-06-25|                   []|                []|                     []|                      []|US2024032859A1|           |                    []|                     []|          |[Kanegae Masatomo...|https://worldwide...|   2020-06-09|2024-02-01|   OPS|Sleep state predi...|\n",
      "|             According to an e...|        [Toshiba Kk]|      2023-02-23|                   []|                []|                     []|                      []|US2024037449A1|           |                    []|                     []|          |[Yamaguchi Osamu,...|https://worldwide...|   2020-06-09|2024-02-01|   OPS|Teaching device, ...|\n",
      "|             The artificial in...|[Shiquan Hengbin ...|      2023-07-12|                   []|                []|                     []|                      []|  CN220410597U|           |                    []|                     []|          |[Bin Bin, Bin Dey...|https://worldwide...|   2020-06-09|2024-01-30|   OPS|Artificial intell...|\n",
      "|             The embodiment of...|[Univ East China ...|      2023-10-27|                   []|                []|                     []|                      []|  CN117478730A|           |                    []|                     []|          |[Liu Jingwei, Liu...|https://worldwide...|   2020-06-09|2024-01-30|   OPS|Adaptive learning...|\n",
      "|             The invention rel...|[Beijing Hangguan...|      2023-11-22|                   []|                []|                     []|                      []|  CN117479081A|           |                    []|                     []|          |[Zhou Aibin, Li Wen]|https://worldwide...|   2020-06-09|2024-01-30|   OPS|Control system an...|\n",
      "|             The embodiment of...|        [Toshiba Kk]|      2023-02-24|                   []|                []|                     []|                      []|  CN117475265A|           |                    []|                     []|          |[Yamaguchi Osamu,...|https://worldwide...|   2020-06-09|2024-01-30|   OPS|Teaching device, ...|\n",
      "|             The invention rel...|[Guangzhou Avcit ...|      2023-11-08|                   []|                []|                     []|                      []|  CN117474262A|           |                    []|                     []|          |[Huang Feiyong, Y...|https://worldwide...|   2020-06-09|2024-01-30|   OPS|Educational admin...|\n",
      "|             This present util...|[Advans Hyuman Ke...|      2023-10-19|                   []|                []|                     []|                      []|      BG4575U1|           |                    []|                     []|          |[Todorov Stanisla...|https://worldwide...|   2020-06-09|2023-11-30|   OPS|Learning platform...|\n",
      "|             The invention rel...|[Guangzhou Lanfan...|      2023-09-22|                   []|                []|                     []|                      []|  CN117455732A|           |                    []|                     []|          |             [Wu Yu]|https://worldwide...|   2020-06-09|2024-01-26|   OPS|Resource library ...|\n",
      "|             The invention dis...|[Nanjing Green Io...|      2023-10-30|                   []|                []|                     []|                      []|  CN117422198A|           |                    []|                     []|          |[Peng Xiaohu, Liu...|https://worldwide...|   2020-06-09|2024-01-19|   OPS|Student growth ev...|\n",
      "|             The invention pro...|[Huludao Power Su...|      2023-12-02|                   []|                []|                     []|                      []|  CN117423270A|           |                    []|                     []|          |[Zhu Jiazheng, Pa...|https://worldwide...|   2020-06-09|2024-01-19|   OPS|Circuit breaker d...|\n",
      "+---------------------------------+--------------------+----------------+---------------------+------------------+-----------------------+------------------------+--------------+-----------+----------------------+-----------------------+----------+--------------------+--------------------+-------------+----------+------+--------------------+\n",
      "only showing top 20 rows\n",
      "\n"
     ]
    }
   ],
   "source": [
    "patents.show()"
   ]
  },
  {
   "cell_type": "code",
   "execution_count": 6,
   "metadata": {},
   "outputs": [
    {
     "name": "stdout",
     "output_type": "stream",
     "text": [
      "root\n",
      " |-- abstract_text: string (nullable = true)\n",
      " |-- applicants: array (nullable = true)\n",
      " |    |-- element: string (containsNull = true)\n",
      " |-- application date: string (nullable = true)\n",
      " |-- assignee_name_current: array (nullable = true)\n",
      " |    |-- element: string (containsNull = true)\n",
      " |-- assignee_name_orig: array (nullable = true)\n",
      " |    |-- element: string (containsNull = true)\n",
      " |-- backward_cite_no_family: array (nullable = true)\n",
      " |    |-- element: struct (containsNull = true)\n",
      " |    |    |-- patent_number: string (nullable = true)\n",
      " |    |    |-- priority_date: string (nullable = true)\n",
      " |    |    |-- pub_date: string (nullable = true)\n",
      " |-- backward_cite_yes_family: array (nullable = true)\n",
      " |    |-- element: struct (containsNull = true)\n",
      " |    |    |-- patent_number: string (nullable = true)\n",
      " |    |    |-- priority_date: string (nullable = true)\n",
      " |    |    |-- pub_date: string (nullable = true)\n",
      " |-- code: string (nullable = true)\n",
      " |-- filing_date: string (nullable = true)\n",
      " |-- forward_cite_no_family: array (nullable = true)\n",
      " |    |-- element: struct (containsNull = true)\n",
      " |    |    |-- patent_number: string (nullable = true)\n",
      " |    |    |-- priority_date: string (nullable = true)\n",
      " |    |    |-- pub_date: string (nullable = true)\n",
      " |-- forward_cite_yes_family: array (nullable = true)\n",
      " |    |-- element: struct (containsNull = true)\n",
      " |    |    |-- patent_number: string (nullable = true)\n",
      " |    |    |-- priority_date: string (nullable = true)\n",
      " |    |    |-- pub_date: string (nullable = true)\n",
      " |-- grant_date: string (nullable = true)\n",
      " |-- inventor_name: array (nullable = true)\n",
      " |    |-- element: string (containsNull = true)\n",
      " |-- link: string (nullable = true)\n",
      " |-- priority_date: string (nullable = true)\n",
      " |-- pub_date: string (nullable = true)\n",
      " |-- source: string (nullable = true)\n",
      " |-- title: string (nullable = true)\n",
      "\n"
     ]
    }
   ],
   "source": [
    "patents.printSchema()"
   ]
  },
  {
   "cell_type": "code",
   "execution_count": 12,
   "metadata": {},
   "outputs": [
    {
     "name": "stdout",
     "output_type": "stream",
     "text": [
      "+---------------------------------+--------------------+----------------+---------------------+------------------+-----------------------+------------------------+--------------+-----------+----------------------+-----------------------+----------+--------------------+--------------------+-------------+----------+------+--------------------+\n",
      "|                    abstract_text|          applicants|application date|assignee_name_current|assignee_name_orig|backward_cite_no_family|backward_cite_yes_family|          code|filing_date|forward_cite_no_family|forward_cite_yes_family|grant_date|       inventor_name|                link|priority_date|  pub_date|source|               title|\n",
      "+---------------------------------+--------------------+----------------+---------------------+------------------+-----------------------+------------------------+--------------+-----------+----------------------+-----------------------+----------+--------------------+--------------------+-------------+----------+------+--------------------+\n",
      "|             The present teach...|[Fresenius Medica...|      2023-10-31|                   []|                []|                     []|                      []|US2024074680A1|           |                    []|                     []|          |[Cherif Alhaji, K...|https://worldwide...|   2020-06-09|2024-03-07|   OPS|Detecting and mon...|\n",
      "|실시예들에 따른 딥러닝 기반 스...|[Hyundai Mobis Co...|      2022-08-18|                   []|                []|                     []|                      []|KR20240025248A|           |                    []|                     []|          |[Roh Hyeon Jin, K...|https://worldwide...|   2020-06-09|2024-02-27|   OPS|A method of teach...|\n",
      "+---------------------------------+--------------------+----------------+---------------------+------------------+-----------------------+------------------------+--------------+-----------+----------------------+-----------------------+----------+--------------------+--------------------+-------------+----------+------+--------------------+\n",
      "only showing top 2 rows\n",
      "\n"
     ]
    }
   ],
   "source": [
    "patents.show(2)"
   ]
  },
  {
   "cell_type": "code",
   "execution_count": 48,
   "metadata": {},
   "outputs": [],
   "source": [
    "patents.createOrReplaceTempView(\"patents\")"
   ]
  },
  {
   "cell_type": "code",
   "execution_count": 76,
   "metadata": {},
   "outputs": [],
   "source": [
    "duplicate_counts = spark.sql(\"\"\"\n",
    "    SELECT code,count(*) AS count\n",
    "    FROM patents\n",
    "    GROUP BY code\n",
    "    HAVING COUNT(*) > 2\n",
    "\"\"\")\n",
    "\n",
    "CN107918755A"
   ]
  },
  {
   "cell_type": "code",
   "execution_count": 77,
   "metadata": {},
   "outputs": [
    {
     "name": "stdout",
     "output_type": "stream",
     "text": [
      "+--------------+-----+\n",
      "|          code|count|\n",
      "+--------------+-----+\n",
      "|WO2022105607A1|    3|\n",
      "|  CN107609009A|    3|\n",
      "|  CN112818008A|    3|\n",
      "|  CN111047094A|    3|\n",
      "|  CN109308411B|    3|\n",
      "|  CN109871660B|    3|\n",
      "|  CN111537515B|    3|\n",
      "|  CN115240093A|    6|\n",
      "|  CN112364641A|    3|\n",
      "|  CN114092769A|    4|\n",
      "|  CN115018804A|    3|\n",
      "|  CN112383052B|    3|\n",
      "|  CN113868497A|    3|\n",
      "|  CN111115727A|    3|\n",
      "|  CN113362959A|    3|\n",
      "| JP2019057160A|    4|\n",
      "|  CN111143447A|    4|\n",
      "|WO2022100357A1|    3|\n",
      "|  TW202111613A|    3|\n",
      "|  CN112580331A|    3|\n",
      "|  CN114119058B|    3|\n",
      "|  CN115563859A|    4|\n",
      "|  CN116933175A|    3|\n",
      "|  CN111325858B|    4|\n",
      "|  CN115455811A|    3|\n",
      "|  US10690646B2|   16|\n",
      "|  CN107918755A|    3|\n",
      "|WO2021164137A1|    3|\n",
      "|  CN110717403B|    3|\n",
      "|  CN110728151A|    3|\n",
      "|  CN112101789A|    3|\n",
      "|   RU2310237C1|    3|\n",
      "|  CN110263794B|    3|\n",
      "|  CN113034593A|    3|\n",
      "|   JP6953508B2|    3|\n",
      "|  CN114998934A|    4|\n",
      "|  CN114462624A|    3|\n",
      "| KR102095555B1|    3|\n",
      "|WO2021103492A1|    5|\n",
      "|  CN109741748A|    3|\n",
      "|  CN115238688A|    3|\n",
      "|  CN111259947A|    4|\n",
      "|  CN112419096B|    3|\n",
      "|    TWI778872B|    4|\n",
      "|  CN116843028A|    3|\n",
      "|   JP7002729B2|    3|\n",
      "|  CN114078602A|    5|\n",
      "|WO2020218664A1|    4|\n",
      "|WO2018122809A1|    4|\n",
      "|  CN114118269A|    4|\n",
      "|  CN114758362A|    4|\n",
      "|  CN109446982B|    3|\n",
      "|  CN110882542B|    3|\n",
      "| KR102024722B1|    5|\n",
      "+--------------+-----+\n",
      "\n"
     ]
    }
   ],
   "source": [
    "duplicate_counts.show(100)"
   ]
  },
  {
   "cell_type": "code",
   "execution_count": 65,
   "metadata": {},
   "outputs": [],
   "source": [
    "duplicate_counts.createOrReplaceTempView(\"duplicated_ids\")"
   ]
  },
  {
   "cell_type": "code",
   "execution_count": 73,
   "metadata": {},
   "outputs": [],
   "source": [
    "ops_patents = spark.sql(\"\"\"\n",
    "    SELECT * \n",
    "    FROM patents \n",
    "    WHERE patents.code IN ( SELECT code \n",
    "                            FROM patents\n",
    "                            GROUP BY code\n",
    "                            HAVING COUNT(*) > 2)\n",
    "    AND source = 'OPS'\n",
    "\"\"\")\n"
   ]
  },
  {
   "cell_type": "code",
   "execution_count": 74,
   "metadata": {},
   "outputs": [
    {
     "name": "stdout",
     "output_type": "stream",
     "text": [
      "+--------------------+--------------------+----------------+---------------------+------------------+-----------------------+------------------------+------------+-----------+----------------------+-----------------------+----------+--------------------+--------------------+-------------+----------+------+--------------------+\n",
      "|       abstract_text|          applicants|application date|assignee_name_current|assignee_name_orig|backward_cite_no_family|backward_cite_yes_family|        code|filing_date|forward_cite_no_family|forward_cite_yes_family|grant_date|       inventor_name|                link|priority_date|  pub_date|source|               title|\n",
      "+--------------------+--------------------+----------------+---------------------+------------------+-----------------------+------------------------+------------+-----------+----------------------+-----------------------+----------+--------------------+--------------------+-------------+----------+------+--------------------+\n",
      "|The invention pro...|[Guangzhou Think ...|      2017-03-29|                   []|                []|                     []|                      []|CN107918755A|           |                    []|                     []|          |[Li Hao, Xin Jish...|https://worldwide...|   2020-06-09|2018-04-17|   OPS|Real-time concent...|\n",
      "+--------------------+--------------------+----------------+---------------------+------------------+-----------------------+------------------------+------------+-----------+----------------------+-----------------------+----------+--------------------+--------------------+-------------+----------+------+--------------------+\n",
      "\n"
     ]
    }
   ],
   "source": [
    "ops_patents.show()"
   ]
  },
  {
   "cell_type": "code",
   "execution_count": null,
   "metadata": {},
   "outputs": [],
   "source": []
  },
  {
   "cell_type": "code",
   "execution_count": 86,
   "metadata": {},
   "outputs": [],
   "source": [
    "t = spark.sql(\"\"\"\n",
    "    SELECT *\n",
    "    FROM patents\n",
    "    where code ='CN107918755A'\n",
    "\"\"\")"
   ]
  },
  {
   "cell_type": "code",
   "execution_count": 88,
   "metadata": {},
   "outputs": [
    {
     "name": "stdout",
     "output_type": "stream",
     "text": [
      "+--------------------+--------------------+----------------+---------------------+--------------------+-----------------------+------------------------+------------+-----------+----------------------+-----------------------+----------+-------------------------------+--------------------+-------------+----------+-------------+--------------------+\n",
      "|       abstract_text|          applicants|application date|assignee_name_current|  assignee_name_orig|backward_cite_no_family|backward_cite_yes_family|        code|filing_date|forward_cite_no_family|forward_cite_yes_family|grant_date|                  inventor_name|                link|priority_date|  pub_date|       source|               title|\n",
      "+--------------------+--------------------+----------------+---------------------+--------------------+-----------------------+------------------------+------------+-----------+----------------------+-----------------------+----------+-------------------------------+--------------------+-------------+----------+-------------+--------------------+\n",
      "|The invention pro...|[Guangzhou Think ...|      2017-03-29|                   []|                  []|                     []|                      []|CN107918755A|           |                    []|                     []|          |           [Li Hao, Xin Jish...|https://worldwide...|   2020-06-09|2018-04-17|          OPS|Real-time concent...|\n",
      "|The present inven...|[Guangzhou Though...|                | [Guangzhou Though...|[Guangzhou Though...|   [{US8714982B2, 20...|                      []|CN107918755A|           |  [{CN109165633A, 2...|                     []|          |[李�昊, 辛继胜, 袁先珍, 黄叶敏]|https://patents.g...|   2017-03-29|2018-04-17|google patent|A kind of real-ti...|\n",
      "|The present inven...|[Guangzhou Though...|                | [Guangzhou Though...|[Guangzhou Though...|   [{US8714982B2, 20...|                      []|CN107918755A|           |  [{CN109165633A, 2...|                     []|          |[李�昊, 辛继胜, 袁先珍, 黄叶敏]|https://patents.g...|   2017-03-29|2018-04-17|google patent|A kind of real-ti...|\n",
      "+--------------------+--------------------+----------------+---------------------+--------------------+-----------------------+------------------------+------------+-----------+----------------------+-----------------------+----------+-------------------------------+--------------------+-------------+----------+-------------+--------------------+\n",
      "\n"
     ]
    }
   ],
   "source": [
    "t.show(truncate=True)"
   ]
  },
  {
   "cell_type": "code",
   "execution_count": 99,
   "metadata": {},
   "outputs": [
    {
     "data": {
      "text/plain": [
       "8426"
      ]
     },
     "execution_count": 99,
     "metadata": {},
     "output_type": "execute_result"
    }
   ],
   "source": [
    "patents.count()"
   ]
  },
  {
   "cell_type": "code",
   "execution_count": 101,
   "metadata": {},
   "outputs": [],
   "source": [
    "patents = spark.sql(\"\"\"\n",
    "    select *  \n",
    "    FROM patents\n",
    "    where code != 'CN107918755A' or source != 'google patent' \n",
    "\"\"\")"
   ]
  },
  {
   "cell_type": "code",
   "execution_count": 100,
   "metadata": {},
   "outputs": [
    {
     "data": {
      "text/plain": [
       "8424"
      ]
     },
     "execution_count": 100,
     "metadata": {},
     "output_type": "execute_result"
    }
   ],
   "source": [
    "patents.count()"
   ]
  },
  {
   "cell_type": "code",
   "execution_count": 104,
   "metadata": {},
   "outputs": [
    {
     "name": "stdout",
     "output_type": "stream",
     "text": [
      "+---------------------------------+--------------------+----------------+---------------------+------------------+-----------------------+------------------------+--------------+-----------+----------------------+-----------------------+----------+--------------------+--------------------+-------------+----------+------+--------------------+\n",
      "|                    abstract_text|          applicants|application date|assignee_name_current|assignee_name_orig|backward_cite_no_family|backward_cite_yes_family|          code|filing_date|forward_cite_no_family|forward_cite_yes_family|grant_date|       inventor_name|                link|priority_date|  pub_date|source|               title|\n",
      "+---------------------------------+--------------------+----------------+---------------------+------------------+-----------------------+------------------------+--------------+-----------+----------------------+-----------------------+----------+--------------------+--------------------+-------------+----------+------+--------------------+\n",
      "|             The present teach...|[Fresenius Medica...|      2023-10-31|                   []|                []|                     []|                      []|US2024074680A1|           |                    []|                     []|          |[Cherif Alhaji, K...|https://worldwide...|   2020-06-09|2024-03-07|   OPS|Detecting and mon...|\n",
      "|실시예들에 따른 딥러닝 기반 스...|[Hyundai Mobis Co...|      2022-08-18|                   []|                []|                     []|                      []|KR20240025248A|           |                    []|                     []|          |[Roh Hyeon Jin, K...|https://worldwide...|   2020-06-09|2024-02-27|   OPS|A method of teach...|\n",
      "|                                 |[National Penghu ...|      2022-11-23|                   []|                []|                     []|                      []|    TWI824842B|           |                    []|                     []|          |[Chen Liang Bi, H...|https://worldwide...|   2020-06-09|2023-12-01|   OPS|Handwriting teach...|\n",
      "|             A method for dete...| [Bosch Gmbh Robert]|      2023-05-18|                   []|                []|                     []|                      []|US2024066692A1|           |                    []|                     []|          |[Reuss Moritz, Va...|https://worldwide...|   2020-06-09|2024-02-29|   OPS|Method for determ...|\n",
      "|             An information pr...|[Fujifilm Busines...|      2023-03-07|                   []|                []|                     []|                      []|US2024062158A1|           |                    []|                     []|          | [Watanabe Takehito]|https://worldwide...|   2020-06-09|2024-02-22|   OPS|Information proce...|\n",
      "+---------------------------------+--------------------+----------------+---------------------+------------------+-----------------------+------------------------+--------------+-----------+----------------------+-----------------------+----------+--------------------+--------------------+-------------+----------+------+--------------------+\n",
      "only showing top 5 rows\n",
      "\n"
     ]
    }
   ],
   "source": [
    "patents.show(5)"
   ]
  },
  {
   "cell_type": "code",
   "execution_count": 112,
   "metadata": {},
   "outputs": [],
   "source": [
    "patents = patents.dropDuplicates(['code'])"
   ]
  },
  {
   "cell_type": "code",
   "execution_count": 113,
   "metadata": {},
   "outputs": [
    {
     "data": {
      "text/plain": [
       "7938"
      ]
     },
     "execution_count": 113,
     "metadata": {},
     "output_type": "execute_result"
    }
   ],
   "source": [
    "patents.count()"
   ]
  },
  {
   "cell_type": "code",
   "execution_count": 114,
   "metadata": {},
   "outputs": [
    {
     "name": "stdout",
     "output_type": "stream",
     "text": [
      "root\n",
      " |-- abstract_text: string (nullable = true)\n",
      " |-- applicants: array (nullable = true)\n",
      " |    |-- element: string (containsNull = true)\n",
      " |-- application date: string (nullable = true)\n",
      " |-- assignee_name_current: array (nullable = true)\n",
      " |    |-- element: string (containsNull = true)\n",
      " |-- assignee_name_orig: array (nullable = true)\n",
      " |    |-- element: string (containsNull = true)\n",
      " |-- backward_cite_no_family: array (nullable = true)\n",
      " |    |-- element: struct (containsNull = true)\n",
      " |    |    |-- patent_number: string (nullable = true)\n",
      " |    |    |-- priority_date: string (nullable = true)\n",
      " |    |    |-- pub_date: string (nullable = true)\n",
      " |-- backward_cite_yes_family: array (nullable = true)\n",
      " |    |-- element: struct (containsNull = true)\n",
      " |    |    |-- patent_number: string (nullable = true)\n",
      " |    |    |-- priority_date: string (nullable = true)\n",
      " |    |    |-- pub_date: string (nullable = true)\n",
      " |-- code: string (nullable = true)\n",
      " |-- filing_date: string (nullable = true)\n",
      " |-- forward_cite_no_family: array (nullable = true)\n",
      " |    |-- element: struct (containsNull = true)\n",
      " |    |    |-- patent_number: string (nullable = true)\n",
      " |    |    |-- priority_date: string (nullable = true)\n",
      " |    |    |-- pub_date: string (nullable = true)\n",
      " |-- forward_cite_yes_family: array (nullable = true)\n",
      " |    |-- element: struct (containsNull = true)\n",
      " |    |    |-- patent_number: string (nullable = true)\n",
      " |    |    |-- priority_date: string (nullable = true)\n",
      " |    |    |-- pub_date: string (nullable = true)\n",
      " |-- grant_date: string (nullable = true)\n",
      " |-- inventor_name: array (nullable = true)\n",
      " |    |-- element: string (containsNull = true)\n",
      " |-- link: string (nullable = true)\n",
      " |-- priority_date: string (nullable = true)\n",
      " |-- pub_date: string (nullable = true)\n",
      " |-- source: string (nullable = true)\n",
      " |-- title: string (nullable = true)\n",
      "\n"
     ]
    }
   ],
   "source": [
    "patents.printSchema()"
   ]
  },
  {
   "cell_type": "markdown",
   "metadata": {},
   "source": [
    "#### Add the country"
   ]
  },
  {
   "cell_type": "code",
   "execution_count": 118,
   "metadata": {},
   "outputs": [],
   "source": [
    "from pyspark.sql.functions import substring"
   ]
  },
  {
   "cell_type": "code",
   "execution_count": 119,
   "metadata": {},
   "outputs": [],
   "source": [
    "df_with = patents.withColumn(\"country\", substring(patents[\"code\"], 1, 2))"
   ]
  },
  {
   "cell_type": "code",
   "execution_count": 121,
   "metadata": {},
   "outputs": [
    {
     "name": "stdout",
     "output_type": "stream",
     "text": [
      "root\n",
      " |-- abstract_text: string (nullable = true)\n",
      " |-- applicants: array (nullable = true)\n",
      " |    |-- element: string (containsNull = true)\n",
      " |-- application date: string (nullable = true)\n",
      " |-- assignee_name_current: array (nullable = true)\n",
      " |    |-- element: string (containsNull = true)\n",
      " |-- assignee_name_orig: array (nullable = true)\n",
      " |    |-- element: string (containsNull = true)\n",
      " |-- backward_cite_no_family: array (nullable = true)\n",
      " |    |-- element: struct (containsNull = true)\n",
      " |    |    |-- patent_number: string (nullable = true)\n",
      " |    |    |-- priority_date: string (nullable = true)\n",
      " |    |    |-- pub_date: string (nullable = true)\n",
      " |-- backward_cite_yes_family: array (nullable = true)\n",
      " |    |-- element: struct (containsNull = true)\n",
      " |    |    |-- patent_number: string (nullable = true)\n",
      " |    |    |-- priority_date: string (nullable = true)\n",
      " |    |    |-- pub_date: string (nullable = true)\n",
      " |-- code: string (nullable = true)\n",
      " |-- filing_date: string (nullable = true)\n",
      " |-- forward_cite_no_family: array (nullable = true)\n",
      " |    |-- element: struct (containsNull = true)\n",
      " |    |    |-- patent_number: string (nullable = true)\n",
      " |    |    |-- priority_date: string (nullable = true)\n",
      " |    |    |-- pub_date: string (nullable = true)\n",
      " |-- forward_cite_yes_family: array (nullable = true)\n",
      " |    |-- element: struct (containsNull = true)\n",
      " |    |    |-- patent_number: string (nullable = true)\n",
      " |    |    |-- priority_date: string (nullable = true)\n",
      " |    |    |-- pub_date: string (nullable = true)\n",
      " |-- grant_date: string (nullable = true)\n",
      " |-- inventor_name: array (nullable = true)\n",
      " |    |-- element: string (containsNull = true)\n",
      " |-- link: string (nullable = true)\n",
      " |-- priority_date: string (nullable = true)\n",
      " |-- pub_date: string (nullable = true)\n",
      " |-- source: string (nullable = true)\n",
      " |-- title: string (nullable = true)\n",
      " |-- country: string (nullable = true)\n",
      "\n"
     ]
    }
   ],
   "source": [
    "df_with.printSchema()"
   ]
  },
  {
   "cell_type": "code",
   "execution_count": 123,
   "metadata": {},
   "outputs": [],
   "source": [
    "from pyspark.sql.functions import regexp_extract"
   ]
  },
  {
   "cell_type": "code",
   "execution_count": 130,
   "metadata": {},
   "outputs": [],
   "source": [
    "patents = patents.withColumn(\"country\", regexp_extract(patents[\"code\"], \"^[a-zA-Z]+\", 0))"
   ]
  },
  {
   "cell_type": "code",
   "execution_count": 131,
   "metadata": {},
   "outputs": [
    {
     "data": {
      "text/plain": [
       "7938"
      ]
     },
     "execution_count": 131,
     "metadata": {},
     "output_type": "execute_result"
    }
   ],
   "source": [
    "patents.count()"
   ]
  },
  {
   "cell_type": "code",
   "execution_count": 132,
   "metadata": {},
   "outputs": [
    {
     "name": "stdout",
     "output_type": "stream",
     "text": [
      "+--------------------+--------------------+----------------+---------------------+--------------------+-----------------------+------------------------+--------------+-----------+----------------------+-----------------------+----------+--------------------------+--------------------+-------------+----------+-------------+--------------------+-------+\n",
      "|       abstract_text|          applicants|application date|assignee_name_current|  assignee_name_orig|backward_cite_no_family|backward_cite_yes_family|          code|filing_date|forward_cite_no_family|forward_cite_yes_family|grant_date|             inventor_name|                link|priority_date|  pub_date|       source|               title|country|\n",
      "+--------------------+--------------------+----------------+---------------------+--------------------+-----------------------+------------------------+--------------+-----------+----------------------+-----------------------+----------+--------------------------+--------------------+-------------+----------+-------------+--------------------+-------+\n",
      "|The present discl...|[Samsung Electron...|      2017-12-14|                   []|                  []|                     []|                      []|AU2017374457A1|           |                    []|                     []|          |      [Onggosanusi Eko,...|https://worldwide...|   2020-06-09|2019-05-30|          OPS|Method and appara...|     AU|\n",
      "|An online Student...|[Schwantler Eric Mr]|      2019-11-15|                   []|                  []|                     []|                      []|AU2019101405A4|           |                    []|                     []|          |      [Hemmett Kevin, S...|https://worldwide...|   2020-06-09|2020-01-02|          OPS|An online student...|     AU|\n",
      "|STUDENT'S PHYSIOL...|[A Beno Dr, E Fan...|      2020-07-09|                   []|                  []|                     []|                      []|AU2020101294A4|           |                    []|                     []|          |      [E Fantin Irudaya...|https://worldwide...|   2020-06-09|2020-08-13|          OPS|Student’s physiol...|     AU|\n",
      "|Al enabled Assist...|[A John Rajan, G ...|      2020-11-10|                   []|                  []|                     []|                      []|AU2020103341A4|           |                    []|                     []|          |      [Virmani Deepali,...|https://worldwide...|   2020-06-09|2021-01-21|          OPS|Ai enabled assist...|     AU|\n",
      "|A controller of t...|[Angel Group Co Ltd]|                | [Angel Group Co Ltd]|[Angel Group Co Ltd]|   [{US5735742A, 199...|    [{US8608548B2, 20...|AU2020203247B2|           |                    []|   [{KR20200111204A,...|2023-07-06|         [Yasushi Shigeta]|https://patents.g...|   2023-10-02|2020-12-10|google patent|Game token manage...|     AU|\n",
      "|- 2021100166 This...|[Devine Paul Mr, ...|      2021-01-12|                   []|                  []|                     []|                      []|AU2021100166A4|           |                    []|                     []|          |      [Hamelin Nicolas,...|https://worldwide...|   2020-06-09|2021-04-08|          OPS|A cloud-based mac...|     AU|\n",
      "|A novel method an...|[Asif Hussain Sha...|      2021-06-22|                   []|                  []|                     []|                      []|AU2021103523A4|           |                    []|                     []|          |      [Hasan Raza, Pala...|https://worldwide...|   2020-06-09|2021-08-12|          OPS|A novel method an...|     AU|\n",
      "|The technology di...|      [Illumina Inc]|      2021-02-17|                   []|                  []|                     []|                      []|AU2021224592A1|           |                    []|                     []|          |      [Dutta Anindita, ...|https://worldwide...|   2020-06-09|2022-09-08|          OPS|Knowledge distill...|     AU|\n",
      "|In one embodiment...|          [Mars Inc]|      2021-12-15|                   []|                  []|                     []|                      []|AU2021401727A1|           |                    []|                     []|          |      [Parkinson Mark, ...|https://worldwide...|   2020-06-09|2023-07-06|          OPS|Systems and metho...|     AU|\n",
      "|The present teach...|[Fresenius Medica...|      2021-08-26|                   []|                  []|                     []|                      []|AU2021447507A1|           |                    []|                     []|          |      [Cherif Alhaji, G...|https://worldwide...|   2020-06-09|2023-11-16|          OPS|Detecting and mon...|     AU|\n",
      "|A chip recognitio...|[Angel Group Co Ltd]|      2023-03-17|                   []|                  []|                     []|                      []|AU2023201677A1|           |                    []|                     []|          |         [Shigeta Yasushi]|https://worldwide...|   2020-06-09|2023-04-13|          OPS|System for counti...|     AU|\n",
      "|The point of this...|       [Voon Gerard]|      2008-11-20|                   []|                  []|                     []|                      []|   CA2642401A1|           |                    []|                     []|          |             [Voon Gerard]|https://worldwide...|   2020-06-09|2010-05-20|          OPS|Computing technol...|     CA|\n",
      "|Provided is a ser...|     [Contec Co Ltd]|      2021-08-26|                   []|                  []|                     []|                      []|   CA3129009A1|           |                    []|                     []|          |             [Lee Sunghee]|https://worldwide...|   2020-06-09|2021-11-04|          OPS|Method and appara...|     CA|\n",
      "|An all-inclusive ...|[Priority claimed...|                |         [Individual]|        [Individual]|                     []|                      []|   CA3146318A1|           |                    []|   [{CN115394392B, 2...|          |           [Enzo ZELOCCHI]|https://patents.g...|             |2023-04-27|google patent|Data analytics sy...|     CA|\n",
      "|A system for trai...|           [Cae Inc]|      2023-03-07|                   []|                  []|                     []|                      []|   CA3192121A1|           |                    []|                     []|          |      [Delisle Jean-Fra...|https://worldwide...|   2020-06-09|2023-07-13|          OPS|Adaptive learning...|     CA|\n",
      "|Systems and metho...|[Satisfai Health ...|      2021-10-27|                   []|                  []|                     []|                      []|   CA3197076A1|           |                    []|                     []|          |      [Crosby Peter, Re...|https://worldwide...|   2020-06-09|2022-05-05|          OPS|Autonomous and co...|     CA|\n",
      "|In one embodiment...|          [Mars Inc]|      2021-12-15|                   []|                  []|                     []|                      []|   CA3200491A1|           |                    []|                     []|          |      [Parkinson Mark J...|https://worldwide...|   2020-06-09|2022-06-23|          OPS|Systems and metho...|     CA|\n",
      "|Provided is a sin...|[Priority claimed...|                | [Microsoft Techno...|    [Microsoft Corp]|                     []|    [{DE3126886A1, 19...|  CN101427104A|           |  [{CN102456046A, 2...|   [{US9507494B1, 20...|2012-06-13|[A·G·古纳雷斯, A·M·戴凯...|https://patents.g...|             |2009-05-06|google patent|       Virtual earth|     CN|\n",
      "|The invention pro...|[GUANGDONG HEHE D...|                | [GUANGDONG HEHE D...|[GUANGDONG HEHE D...|                     []|                      []|  CN101833878A|           |  [{CN102306460A, 2...|                     []|          |          [陈玉琪, 王金兰]|https://patents.g...|   2010-03-30|2010-09-15|google patent|Remote video educ...|     CN|\n",
      "|A dynamic demonst...|           [Cong Xu]|      2009-09-16|                   []|                  []|                     []|                      []|  CN102024360A|           |                    []|                     []|          |                 [Cong Xu]|https://worldwide...|   2020-06-09|2011-04-20|          OPS|Dynamic demonstra...|     CN|\n",
      "+--------------------+--------------------+----------------+---------------------+--------------------+-----------------------+------------------------+--------------+-----------+----------------------+-----------------------+----------+--------------------------+--------------------+-------------+----------+-------------+--------------------+-------+\n",
      "only showing top 20 rows\n",
      "\n"
     ]
    }
   ],
   "source": [
    "patents.show()"
   ]
  },
  {
   "cell_type": "code",
   "execution_count": 135,
   "metadata": {},
   "outputs": [],
   "source": [
    "patents_1 = patents.coalesce(1)"
   ]
  },
  {
   "cell_type": "code",
   "execution_count": 136,
   "metadata": {},
   "outputs": [],
   "source": [
    "patents_1.write.json('transformed-data/cleaned_patents.json')"
   ]
  },
  {
   "cell_type": "markdown",
   "metadata": {},
   "source": [
    "### next step : data transformation"
   ]
  },
  {
   "cell_type": "code",
   "execution_count": 137,
   "metadata": {},
   "outputs": [],
   "source": []
  },
  {
   "cell_type": "code",
   "execution_count": null,
   "metadata": {},
   "outputs": [],
   "source": []
  },
  {
   "cell_type": "code",
   "execution_count": null,
   "metadata": {},
   "outputs": [],
   "source": []
  },
  {
   "cell_type": "code",
   "execution_count": null,
   "metadata": {},
   "outputs": [],
   "source": []
  }
 ],
 "metadata": {
  "kernelspec": {
   "display_name": "Python 3 (ipykernel)",
   "language": "python",
   "name": "python3"
  },
  "language_info": {
   "codemirror_mode": {
    "name": "ipython",
    "version": 3
   },
   "file_extension": ".py",
   "mimetype": "text/x-python",
   "name": "python",
   "nbconvert_exporter": "python",
   "pygments_lexer": "ipython3",
   "version": "3.9.12"
  }
 },
 "nbformat": 4,
 "nbformat_minor": 2
}
