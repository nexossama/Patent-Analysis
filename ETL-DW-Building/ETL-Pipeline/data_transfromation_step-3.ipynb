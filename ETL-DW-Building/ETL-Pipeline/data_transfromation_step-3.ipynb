{
 "cells": [
  {
   "cell_type": "markdown",
   "id": "3cbb8867",
   "metadata": {},
   "source": [
    "# Silver Layer(2) - Data Transformation"
   ]
  },
  {
   "cell_type": "code",
   "execution_count": 1,
   "id": "c12160d6",
   "metadata": {},
   "outputs": [
    {
     "data": {
      "text/html": [
       "<style>pre {white-space:pre !important;}</style> "
      ],
      "text/plain": [
       "<IPython.core.display.HTML object>"
      ]
     },
     "metadata": {},
     "output_type": "display_data"
    }
   ],
   "source": [
    "## To display notebook cell with horizontal scroll bar\n",
    "from IPython.display import display,HTML\n",
    "display(HTML(\"<style>pre {white-space:pre !important;}</style> \"))"
   ]
  },
  {
   "cell_type": "code",
   "execution_count": 290,
   "id": "b37a978f",
   "metadata": {},
   "outputs": [],
   "source": [
    "from pyspark.sql.functions import lit\n",
    "import findspark\n",
    "from pyspark.sql import SparkSession\n",
    "import pandas as pd\n",
    "from pyspark.sql.types import StringType"
   ]
  },
  {
   "cell_type": "code",
   "execution_count": 291,
   "id": "c4c8a6b8",
   "metadata": {},
   "outputs": [],
   "source": [
    "findspark.init()\n",
    "\n",
    "spark = SparkSession.builder.getOrCreate()\n",
    "\n",
    "sc = spark.sparkContext"
   ]
  },
  {
   "cell_type": "code",
   "execution_count": 292,
   "id": "8d03a53f",
   "metadata": {},
   "outputs": [],
   "source": [
    "patents = spark.read.json('cleaned_patents.json')"
   ]
  },
  {
   "cell_type": "code",
   "execution_count": 293,
   "id": "a28da6a5",
   "metadata": {},
   "outputs": [
    {
     "name": "stdout",
     "output_type": "stream",
     "text": [
      "+--------------------+--------------------+----------------+---------------------+------------------+-----------------------+------------------------+--------------+-------+-----------+----------------------+-----------------------+----------+--------------------+--------------------+-------------+----------+------+--------------------+\n",
      "|       abstract_text|          applicants|application date|assignee_name_current|assignee_name_orig|backward_cite_no_family|backward_cite_yes_family|          code|country|filing_date|forward_cite_no_family|forward_cite_yes_family|grant_date|       inventor_name|                link|priority_date|  pub_date|source|               title|\n",
      "+--------------------+--------------------+----------------+---------------------+------------------+-----------------------+------------------------+--------------+-------+-----------+----------------------+-----------------------+----------+--------------------+--------------------+-------------+----------+------+--------------------+\n",
      "|The present discl...|[Samsung Electron...|      2017-12-14|                   []|                []|                     []|                      []|AU2017374457A1|     AU|           |                    []|                     []|          |[Onggosanusi Eko,...|https://worldwide...|   2020-06-09|2019-05-30|   OPS|Method and appara...|\n",
      "|An online Student...|[Schwantler Eric Mr]|      2019-11-15|                   []|                []|                     []|                      []|AU2019101405A4|     AU|           |                    []|                     []|          |[Hemmett Kevin, S...|https://worldwide...|   2020-06-09|2020-01-02|   OPS|An online student...|\n",
      "|STUDENT'S PHYSIOL...|[A Beno Dr, E Fan...|      2020-07-09|                   []|                []|                     []|                      []|AU2020101294A4|     AU|           |                    []|                     []|          |[E Fantin Irudaya...|https://worldwide...|   2020-06-09|2020-08-13|   OPS|Student’s physiol...|\n",
      "|Al enabled Assist...|[A John Rajan, G ...|      2020-11-10|                   []|                []|                     []|                      []|AU2020103341A4|     AU|           |                    []|                     []|          |[Virmani Deepali,...|https://worldwide...|   2020-06-09|2021-01-21|   OPS|Ai enabled assist...|\n",
      "+--------------------+--------------------+----------------+---------------------+------------------+-----------------------+------------------------+--------------+-------+-----------+----------------------+-----------------------+----------+--------------------+--------------------+-------------+----------+------+--------------------+\n",
      "only showing top 4 rows\n",
      "\n"
     ]
    }
   ],
   "source": [
    "patents.show(4)"
   ]
  },
  {
   "cell_type": "code",
   "execution_count": 294,
   "id": "19c93bd3",
   "metadata": {},
   "outputs": [
    {
     "name": "stdout",
     "output_type": "stream",
     "text": [
      "root\n",
      " |-- abstract_text: string (nullable = true)\n",
      " |-- applicants: array (nullable = true)\n",
      " |    |-- element: string (containsNull = true)\n",
      " |-- application date: string (nullable = true)\n",
      " |-- assignee_name_current: array (nullable = true)\n",
      " |    |-- element: string (containsNull = true)\n",
      " |-- assignee_name_orig: array (nullable = true)\n",
      " |    |-- element: string (containsNull = true)\n",
      " |-- backward_cite_no_family: array (nullable = true)\n",
      " |    |-- element: struct (containsNull = true)\n",
      " |    |    |-- patent_number: string (nullable = true)\n",
      " |    |    |-- priority_date: string (nullable = true)\n",
      " |    |    |-- pub_date: string (nullable = true)\n",
      " |-- backward_cite_yes_family: array (nullable = true)\n",
      " |    |-- element: struct (containsNull = true)\n",
      " |    |    |-- patent_number: string (nullable = true)\n",
      " |    |    |-- priority_date: string (nullable = true)\n",
      " |    |    |-- pub_date: string (nullable = true)\n",
      " |-- code: string (nullable = true)\n",
      " |-- country: string (nullable = true)\n",
      " |-- filing_date: string (nullable = true)\n",
      " |-- forward_cite_no_family: array (nullable = true)\n",
      " |    |-- element: struct (containsNull = true)\n",
      " |    |    |-- patent_number: string (nullable = true)\n",
      " |    |    |-- priority_date: string (nullable = true)\n",
      " |    |    |-- pub_date: string (nullable = true)\n",
      " |-- forward_cite_yes_family: array (nullable = true)\n",
      " |    |-- element: struct (containsNull = true)\n",
      " |    |    |-- patent_number: string (nullable = true)\n",
      " |    |    |-- priority_date: string (nullable = true)\n",
      " |    |    |-- pub_date: string (nullable = true)\n",
      " |-- grant_date: string (nullable = true)\n",
      " |-- inventor_name: array (nullable = true)\n",
      " |    |-- element: string (containsNull = true)\n",
      " |-- link: string (nullable = true)\n",
      " |-- priority_date: string (nullable = true)\n",
      " |-- pub_date: string (nullable = true)\n",
      " |-- source: string (nullable = true)\n",
      " |-- title: string (nullable = true)\n",
      "\n"
     ]
    }
   ],
   "source": [
    "patents.printSchema()"
   ]
  },
  {
   "cell_type": "code",
   "execution_count": 295,
   "id": "14dec1ad",
   "metadata": {},
   "outputs": [
    {
     "name": "stdout",
     "output_type": "stream",
     "text": [
      "+--------------------+--------------------+----------------+---------------------+--------------------+-----------------------+------------------------+--------------+-------+-----------+----------------------+-----------------------+----------+--------------------------+--------------------+-------------+----------+-------------+--------------------+\n",
      "|       abstract_text|          applicants|application date|assignee_name_current|  assignee_name_orig|backward_cite_no_family|backward_cite_yes_family|          code|country|filing_date|forward_cite_no_family|forward_cite_yes_family|grant_date|             inventor_name|                link|priority_date|  pub_date|       source|               title|\n",
      "+--------------------+--------------------+----------------+---------------------+--------------------+-----------------------+------------------------+--------------+-------+-----------+----------------------+-----------------------+----------+--------------------------+--------------------+-------------+----------+-------------+--------------------+\n",
      "|The present discl...|[Samsung Electron...|      2017-12-14|                   []|                  []|                     []|                      []|AU2017374457A1|     AU|           |                    []|                     []|          |      [Onggosanusi Eko,...|https://worldwide...|   2020-06-09|2019-05-30|          OPS|Method and appara...|\n",
      "|An online Student...|[Schwantler Eric Mr]|      2019-11-15|                   []|                  []|                     []|                      []|AU2019101405A4|     AU|           |                    []|                     []|          |      [Hemmett Kevin, S...|https://worldwide...|   2020-06-09|2020-01-02|          OPS|An online student...|\n",
      "|STUDENT'S PHYSIOL...|[A Beno Dr, E Fan...|      2020-07-09|                   []|                  []|                     []|                      []|AU2020101294A4|     AU|           |                    []|                     []|          |      [E Fantin Irudaya...|https://worldwide...|   2020-06-09|2020-08-13|          OPS|Student’s physiol...|\n",
      "|Al enabled Assist...|[A John Rajan, G ...|      2020-11-10|                   []|                  []|                     []|                      []|AU2020103341A4|     AU|           |                    []|                     []|          |      [Virmani Deepali,...|https://worldwide...|   2020-06-09|2021-01-21|          OPS|Ai enabled assist...|\n",
      "|A controller of t...|[Angel Group Co Ltd]|                | [Angel Group Co Ltd]|[Angel Group Co Ltd]|   [{US5735742A, 199...|    [{US8608548B2, 20...|AU2020203247B2|     AU|           |                    []|   [{KR20200111204A,...|2023-07-06|         [Yasushi Shigeta]|https://patents.g...|   2023-10-02|2020-12-10|google patent|Game token manage...|\n",
      "|- 2021100166 This...|[Devine Paul Mr, ...|      2021-01-12|                   []|                  []|                     []|                      []|AU2021100166A4|     AU|           |                    []|                     []|          |      [Hamelin Nicolas,...|https://worldwide...|   2020-06-09|2021-04-08|          OPS|A cloud-based mac...|\n",
      "|A novel method an...|[Asif Hussain Sha...|      2021-06-22|                   []|                  []|                     []|                      []|AU2021103523A4|     AU|           |                    []|                     []|          |      [Hasan Raza, Pala...|https://worldwide...|   2020-06-09|2021-08-12|          OPS|A novel method an...|\n",
      "|The technology di...|      [Illumina Inc]|      2021-02-17|                   []|                  []|                     []|                      []|AU2021224592A1|     AU|           |                    []|                     []|          |      [Dutta Anindita, ...|https://worldwide...|   2020-06-09|2022-09-08|          OPS|Knowledge distill...|\n",
      "|In one embodiment...|          [Mars Inc]|      2021-12-15|                   []|                  []|                     []|                      []|AU2021401727A1|     AU|           |                    []|                     []|          |      [Parkinson Mark, ...|https://worldwide...|   2020-06-09|2023-07-06|          OPS|Systems and metho...|\n",
      "|The present teach...|[Fresenius Medica...|      2021-08-26|                   []|                  []|                     []|                      []|AU2021447507A1|     AU|           |                    []|                     []|          |      [Cherif Alhaji, G...|https://worldwide...|   2020-06-09|2023-11-16|          OPS|Detecting and mon...|\n",
      "|A chip recognitio...|[Angel Group Co Ltd]|      2023-03-17|                   []|                  []|                     []|                      []|AU2023201677A1|     AU|           |                    []|                     []|          |         [Shigeta Yasushi]|https://worldwide...|   2020-06-09|2023-04-13|          OPS|System for counti...|\n",
      "|The point of this...|       [Voon Gerard]|      2008-11-20|                   []|                  []|                     []|                      []|   CA2642401A1|     CA|           |                    []|                     []|          |             [Voon Gerard]|https://worldwide...|   2020-06-09|2010-05-20|          OPS|Computing technol...|\n",
      "|Provided is a ser...|     [Contec Co Ltd]|      2021-08-26|                   []|                  []|                     []|                      []|   CA3129009A1|     CA|           |                    []|                     []|          |             [Lee Sunghee]|https://worldwide...|   2020-06-09|2021-11-04|          OPS|Method and appara...|\n",
      "|An all-inclusive ...|[Priority claimed...|                |         [Individual]|        [Individual]|                     []|                      []|   CA3146318A1|     CA|           |                    []|   [{CN115394392B, 2...|          |           [Enzo ZELOCCHI]|https://patents.g...|             |2023-04-27|google patent|Data analytics sy...|\n",
      "|A system for trai...|           [Cae Inc]|      2023-03-07|                   []|                  []|                     []|                      []|   CA3192121A1|     CA|           |                    []|                     []|          |      [Delisle Jean-Fra...|https://worldwide...|   2020-06-09|2023-07-13|          OPS|Adaptive learning...|\n",
      "|Systems and metho...|[Satisfai Health ...|      2021-10-27|                   []|                  []|                     []|                      []|   CA3197076A1|     CA|           |                    []|                     []|          |      [Crosby Peter, Re...|https://worldwide...|   2020-06-09|2022-05-05|          OPS|Autonomous and co...|\n",
      "|In one embodiment...|          [Mars Inc]|      2021-12-15|                   []|                  []|                     []|                      []|   CA3200491A1|     CA|           |                    []|                     []|          |      [Parkinson Mark J...|https://worldwide...|   2020-06-09|2022-06-23|          OPS|Systems and metho...|\n",
      "|Provided is a sin...|[Priority claimed...|                | [Microsoft Techno...|    [Microsoft Corp]|                     []|    [{DE3126886A1, 19...|  CN101427104A|     CN|           |  [{CN102456046A, 2...|   [{US9507494B1, 20...|2012-06-13|[A·G·古纳雷斯, A·M·戴凯...|https://patents.g...|             |2009-05-06|google patent|       Virtual earth|\n",
      "|The invention pro...|[GUANGDONG HEHE D...|                | [GUANGDONG HEHE D...|[GUANGDONG HEHE D...|                     []|                      []|  CN101833878A|     CN|           |  [{CN102306460A, 2...|                     []|          |          [陈玉琪, 王金兰]|https://patents.g...|   2010-03-30|2010-09-15|google patent|Remote video educ...|\n",
      "|A dynamic demonst...|           [Cong Xu]|      2009-09-16|                   []|                  []|                     []|                      []|  CN102024360A|     CN|           |                    []|                     []|          |                 [Cong Xu]|https://worldwide...|   2020-06-09|2011-04-20|          OPS|Dynamic demonstra...|\n",
      "+--------------------+--------------------+----------------+---------------------+--------------------+-----------------------+------------------------+--------------+-------+-----------+----------------------+-----------------------+----------+--------------------------+--------------------+-------------+----------+-------------+--------------------+\n",
      "only showing top 20 rows\n",
      "\n"
     ]
    }
   ],
   "source": [
    "patents.show()\n"
   ]
  },
  {
   "cell_type": "code",
   "execution_count": 296,
   "id": "1b9693e9",
   "metadata": {},
   "outputs": [],
   "source": [
    "patents = patents.withColumnRenamed(\"application date\", \"application_date\")"
   ]
  },
  {
   "cell_type": "code",
   "execution_count": 297,
   "id": "519417de",
   "metadata": {},
   "outputs": [],
   "source": [
    "from pyspark.sql.functions import udf\n",
    "from pyspark.sql.types import ArrayType, StructType, StructField, StringType\n"
   ]
  },
  {
   "cell_type": "code",
   "execution_count": 298,
   "id": "305abeea",
   "metadata": {},
   "outputs": [],
   "source": [
    "# Define the UDF to handle nested arrays\n",
    "def empty_nested_list_to_none(arr):\n",
    "    if arr is None:\n",
    "        return None\n",
    "    elif len(arr) == 0:\n",
    "        return None\n",
    "    else:\n",
    "        return [None] if all(len(inner_arr) == 0 for inner_arr in arr) else arr"
   ]
  },
  {
   "cell_type": "code",
   "execution_count": 299,
   "id": "16c80e77",
   "metadata": {},
   "outputs": [],
   "source": [
    "# Define the schema for the nested array\n",
    "inner_struct = StructType([\n",
    "    StructField(\"patent_number\", StringType(), nullable=True),\n",
    "    StructField(\"priority_date\", StringType(), nullable=True),\n",
    "    StructField(\"pub_date\", StringType(), nullable=True)\n",
    "])\n",
    "\n",
    "outer_array_schema = ArrayType(inner_struct)\n",
    "\n",
    "nested_list_to_none = udf(empty_nested_list_to_none, outer_array_schema)"
   ]
  },
  {
   "cell_type": "code",
   "execution_count": 300,
   "id": "6b4ff736",
   "metadata": {},
   "outputs": [],
   "source": [
    "def empty_list_to_none(l):\n",
    "    return None if len(l)==0 else l"
   ]
  },
  {
   "cell_type": "code",
   "execution_count": 301,
   "id": "a781b5be",
   "metadata": {},
   "outputs": [],
   "source": [
    "list_to_none = udf(empty_list_to_none,ArrayType(StringType()))"
   ]
  },
  {
   "cell_type": "code",
   "execution_count": 302,
   "id": "d789bc84",
   "metadata": {},
   "outputs": [],
   "source": [
    "def empty_string_to_none(s):\n",
    "    return None if len(s)==0 else s"
   ]
  },
  {
   "cell_type": "code",
   "execution_count": 303,
   "id": "8d9ab585",
   "metadata": {},
   "outputs": [],
   "source": [
    "string_to_none = udf(empty_string_to_none,StringType())"
   ]
  },
  {
   "cell_type": "code",
   "execution_count": 304,
   "id": "b3f573f6",
   "metadata": {},
   "outputs": [],
   "source": [
    "columns = [ \n",
    " 'backward_cite_no_family',\n",
    " 'backward_cite_yes_family',\n",
    " 'forward_cite_no_family',\n",
    " 'forward_cite_yes_family',\n",
    "]\n",
    "\n",
    "for column in columns:\n",
    "    patents = patents.withColumn(column,nested_list_to_none(patents[column]))"
   ]
  },
  {
   "cell_type": "code",
   "execution_count": 305,
   "id": "374ea8f3",
   "metadata": {},
   "outputs": [],
   "source": [
    "columns = [ \n",
    "\"assignee_name_current\",\n",
    "\"assignee_name_orig\",\n",
    "\"inventor_name\",\n",
    "\"applicants\"\n",
    "]\n",
    "\n",
    "for column in columns:\n",
    "    patents = patents.withColumn(column,list_to_none(patents[column]))"
   ]
  },
  {
   "cell_type": "code",
   "execution_count": 306,
   "id": "65fbf3c0",
   "metadata": {},
   "outputs": [],
   "source": [
    "columns = [ \n",
    " 'application_date',\n",
    " 'grant_date',\n",
    " 'priority_date',\n",
    " 'pub_date',\n",
    "]\n",
    "\n",
    "for column in columns:\n",
    "    patents = patents.withColumn(column,string_to_none(patents[column]))"
   ]
  },
  {
   "cell_type": "code",
   "execution_count": 307,
   "id": "78e888ac",
   "metadata": {},
   "outputs": [
    {
     "name": "stdout",
     "output_type": "stream",
     "text": [
      "+--------------------+--------------------+----------------+---------------------+--------------------+-----------------------+------------------------+--------------+-------+-----------+----------------------+-----------------------+----------+--------------------------+--------------------+-------------+----------+-------------+--------------------+\n",
      "|       abstract_text|          applicants|application_date|assignee_name_current|  assignee_name_orig|backward_cite_no_family|backward_cite_yes_family|          code|country|filing_date|forward_cite_no_family|forward_cite_yes_family|grant_date|             inventor_name|                link|priority_date|  pub_date|       source|               title|\n",
      "+--------------------+--------------------+----------------+---------------------+--------------------+-----------------------+------------------------+--------------+-------+-----------+----------------------+-----------------------+----------+--------------------------+--------------------+-------------+----------+-------------+--------------------+\n",
      "|The present discl...|[Samsung Electron...|      2017-12-14|                 null|                null|                   null|                    null|AU2017374457A1|     AU|           |                  null|                   null|      null|      [Onggosanusi Eko,...|https://worldwide...|   2020-06-09|2019-05-30|          OPS|Method and appara...|\n",
      "|An online Student...|[Schwantler Eric Mr]|      2019-11-15|                 null|                null|                   null|                    null|AU2019101405A4|     AU|           |                  null|                   null|      null|      [Hemmett Kevin, S...|https://worldwide...|   2020-06-09|2020-01-02|          OPS|An online student...|\n",
      "|STUDENT'S PHYSIOL...|[A Beno Dr, E Fan...|      2020-07-09|                 null|                null|                   null|                    null|AU2020101294A4|     AU|           |                  null|                   null|      null|      [E Fantin Irudaya...|https://worldwide...|   2020-06-09|2020-08-13|          OPS|Student’s physiol...|\n",
      "|Al enabled Assist...|[A John Rajan, G ...|      2020-11-10|                 null|                null|                   null|                    null|AU2020103341A4|     AU|           |                  null|                   null|      null|      [Virmani Deepali,...|https://worldwide...|   2020-06-09|2021-01-21|          OPS|Ai enabled assist...|\n",
      "|A controller of t...|[Angel Group Co Ltd]|            null| [Angel Group Co Ltd]|[Angel Group Co Ltd]|   [{US5735742A, 199...|    [{US8608548B2, 20...|AU2020203247B2|     AU|           |                  null|   [{KR20200111204A,...|2023-07-06|         [Yasushi Shigeta]|https://patents.g...|   2023-10-02|2020-12-10|google patent|Game token manage...|\n",
      "|- 2021100166 This...|[Devine Paul Mr, ...|      2021-01-12|                 null|                null|                   null|                    null|AU2021100166A4|     AU|           |                  null|                   null|      null|      [Hamelin Nicolas,...|https://worldwide...|   2020-06-09|2021-04-08|          OPS|A cloud-based mac...|\n",
      "|A novel method an...|[Asif Hussain Sha...|      2021-06-22|                 null|                null|                   null|                    null|AU2021103523A4|     AU|           |                  null|                   null|      null|      [Hasan Raza, Pala...|https://worldwide...|   2020-06-09|2021-08-12|          OPS|A novel method an...|\n",
      "|The technology di...|      [Illumina Inc]|      2021-02-17|                 null|                null|                   null|                    null|AU2021224592A1|     AU|           |                  null|                   null|      null|      [Dutta Anindita, ...|https://worldwide...|   2020-06-09|2022-09-08|          OPS|Knowledge distill...|\n",
      "|In one embodiment...|          [Mars Inc]|      2021-12-15|                 null|                null|                   null|                    null|AU2021401727A1|     AU|           |                  null|                   null|      null|      [Parkinson Mark, ...|https://worldwide...|   2020-06-09|2023-07-06|          OPS|Systems and metho...|\n",
      "|The present teach...|[Fresenius Medica...|      2021-08-26|                 null|                null|                   null|                    null|AU2021447507A1|     AU|           |                  null|                   null|      null|      [Cherif Alhaji, G...|https://worldwide...|   2020-06-09|2023-11-16|          OPS|Detecting and mon...|\n",
      "|A chip recognitio...|[Angel Group Co Ltd]|      2023-03-17|                 null|                null|                   null|                    null|AU2023201677A1|     AU|           |                  null|                   null|      null|         [Shigeta Yasushi]|https://worldwide...|   2020-06-09|2023-04-13|          OPS|System for counti...|\n",
      "|The point of this...|       [Voon Gerard]|      2008-11-20|                 null|                null|                   null|                    null|   CA2642401A1|     CA|           |                  null|                   null|      null|             [Voon Gerard]|https://worldwide...|   2020-06-09|2010-05-20|          OPS|Computing technol...|\n",
      "|Provided is a ser...|     [Contec Co Ltd]|      2021-08-26|                 null|                null|                   null|                    null|   CA3129009A1|     CA|           |                  null|                   null|      null|             [Lee Sunghee]|https://worldwide...|   2020-06-09|2021-11-04|          OPS|Method and appara...|\n",
      "|An all-inclusive ...|[Priority claimed...|            null|         [Individual]|        [Individual]|                   null|                    null|   CA3146318A1|     CA|           |                  null|   [{CN115394392B, 2...|      null|           [Enzo ZELOCCHI]|https://patents.g...|         null|2023-04-27|google patent|Data analytics sy...|\n",
      "|A system for trai...|           [Cae Inc]|      2023-03-07|                 null|                null|                   null|                    null|   CA3192121A1|     CA|           |                  null|                   null|      null|      [Delisle Jean-Fra...|https://worldwide...|   2020-06-09|2023-07-13|          OPS|Adaptive learning...|\n",
      "|Systems and metho...|[Satisfai Health ...|      2021-10-27|                 null|                null|                   null|                    null|   CA3197076A1|     CA|           |                  null|                   null|      null|      [Crosby Peter, Re...|https://worldwide...|   2020-06-09|2022-05-05|          OPS|Autonomous and co...|\n",
      "|In one embodiment...|          [Mars Inc]|      2021-12-15|                 null|                null|                   null|                    null|   CA3200491A1|     CA|           |                  null|                   null|      null|      [Parkinson Mark J...|https://worldwide...|   2020-06-09|2022-06-23|          OPS|Systems and metho...|\n",
      "|Provided is a sin...|[Priority claimed...|            null| [Microsoft Techno...|    [Microsoft Corp]|                   null|    [{DE3126886A1, 19...|  CN101427104A|     CN|           |  [{CN102456046A, 2...|   [{US9507494B1, 20...|2012-06-13|[A·G·古纳雷斯, A·M·戴凯...|https://patents.g...|         null|2009-05-06|google patent|       Virtual earth|\n",
      "|The invention pro...|[GUANGDONG HEHE D...|            null| [GUANGDONG HEHE D...|[GUANGDONG HEHE D...|                   null|                    null|  CN101833878A|     CN|           |  [{CN102306460A, 2...|                   null|      null|          [陈玉琪, 王金兰]|https://patents.g...|   2010-03-30|2010-09-15|google patent|Remote video educ...|\n",
      "|A dynamic demonst...|           [Cong Xu]|      2009-09-16|                 null|                null|                   null|                    null|  CN102024360A|     CN|           |                  null|                   null|      null|                 [Cong Xu]|https://worldwide...|   2020-06-09|2011-04-20|          OPS|Dynamic demonstra...|\n",
      "+--------------------+--------------------+----------------+---------------------+--------------------+-----------------------+------------------------+--------------+-------+-----------+----------------------+-----------------------+----------+--------------------------+--------------------+-------------+----------+-------------+--------------------+\n",
      "only showing top 20 rows\n",
      "\n"
     ]
    }
   ],
   "source": [
    "patents.show()"
   ]
  },
  {
   "cell_type": "code",
   "execution_count": 308,
   "id": "23fce1ea",
   "metadata": {},
   "outputs": [],
   "source": [
    "patents=patents.drop(\"filing_date\")"
   ]
  },
  {
   "cell_type": "code",
   "execution_count": 309,
   "id": "9fae18a3",
   "metadata": {},
   "outputs": [],
   "source": [
    "def extract_country(patent_code):\n",
    "    match = re.match(r'([A-Za-z]+)\\d+', patent_code)\n",
    "    if match:\n",
    "        return match.group(1)\n",
    "    else:\n",
    "        return None\n",
    "\n",
    "create_country = udf(extract_country,StringType())\n",
    "\n",
    "patents = patents.withColumn(\"country\",create_country(patents[\"code\"]))"
   ]
  },
  {
   "cell_type": "code",
   "execution_count": 310,
   "id": "1a2134da",
   "metadata": {},
   "outputs": [
    {
     "name": "stdout",
     "output_type": "stream",
     "text": [
      "+--------------------+--------------------+----------------+---------------------+--------------------+-----------------------+------------------------+--------------+-------+----------------------+-----------------------+----------+--------------------------+--------------------+-------------+----------+-------------+--------------------+\n",
      "|       abstract_text|          applicants|application_date|assignee_name_current|  assignee_name_orig|backward_cite_no_family|backward_cite_yes_family|          code|country|forward_cite_no_family|forward_cite_yes_family|grant_date|             inventor_name|                link|priority_date|  pub_date|       source|               title|\n",
      "+--------------------+--------------------+----------------+---------------------+--------------------+-----------------------+------------------------+--------------+-------+----------------------+-----------------------+----------+--------------------------+--------------------+-------------+----------+-------------+--------------------+\n",
      "|The present discl...|[Samsung Electron...|      2017-12-14|                 null|                null|                   null|                    null|AU2017374457A1|     AU|                  null|                   null|      null|      [Onggosanusi Eko,...|https://worldwide...|   2020-06-09|2019-05-30|          OPS|Method and appara...|\n",
      "|An online Student...|[Schwantler Eric Mr]|      2019-11-15|                 null|                null|                   null|                    null|AU2019101405A4|     AU|                  null|                   null|      null|      [Hemmett Kevin, S...|https://worldwide...|   2020-06-09|2020-01-02|          OPS|An online student...|\n",
      "|STUDENT'S PHYSIOL...|[A Beno Dr, E Fan...|      2020-07-09|                 null|                null|                   null|                    null|AU2020101294A4|     AU|                  null|                   null|      null|      [E Fantin Irudaya...|https://worldwide...|   2020-06-09|2020-08-13|          OPS|Student’s physiol...|\n",
      "|Al enabled Assist...|[A John Rajan, G ...|      2020-11-10|                 null|                null|                   null|                    null|AU2020103341A4|     AU|                  null|                   null|      null|      [Virmani Deepali,...|https://worldwide...|   2020-06-09|2021-01-21|          OPS|Ai enabled assist...|\n",
      "|A controller of t...|[Angel Group Co Ltd]|            null| [Angel Group Co Ltd]|[Angel Group Co Ltd]|   [{US5735742A, 199...|    [{US8608548B2, 20...|AU2020203247B2|     AU|                  null|   [{KR20200111204A,...|2023-07-06|         [Yasushi Shigeta]|https://patents.g...|   2023-10-02|2020-12-10|google patent|Game token manage...|\n",
      "|- 2021100166 This...|[Devine Paul Mr, ...|      2021-01-12|                 null|                null|                   null|                    null|AU2021100166A4|     AU|                  null|                   null|      null|      [Hamelin Nicolas,...|https://worldwide...|   2020-06-09|2021-04-08|          OPS|A cloud-based mac...|\n",
      "|A novel method an...|[Asif Hussain Sha...|      2021-06-22|                 null|                null|                   null|                    null|AU2021103523A4|     AU|                  null|                   null|      null|      [Hasan Raza, Pala...|https://worldwide...|   2020-06-09|2021-08-12|          OPS|A novel method an...|\n",
      "|The technology di...|      [Illumina Inc]|      2021-02-17|                 null|                null|                   null|                    null|AU2021224592A1|     AU|                  null|                   null|      null|      [Dutta Anindita, ...|https://worldwide...|   2020-06-09|2022-09-08|          OPS|Knowledge distill...|\n",
      "|In one embodiment...|          [Mars Inc]|      2021-12-15|                 null|                null|                   null|                    null|AU2021401727A1|     AU|                  null|                   null|      null|      [Parkinson Mark, ...|https://worldwide...|   2020-06-09|2023-07-06|          OPS|Systems and metho...|\n",
      "|The present teach...|[Fresenius Medica...|      2021-08-26|                 null|                null|                   null|                    null|AU2021447507A1|     AU|                  null|                   null|      null|      [Cherif Alhaji, G...|https://worldwide...|   2020-06-09|2023-11-16|          OPS|Detecting and mon...|\n",
      "|A chip recognitio...|[Angel Group Co Ltd]|      2023-03-17|                 null|                null|                   null|                    null|AU2023201677A1|     AU|                  null|                   null|      null|         [Shigeta Yasushi]|https://worldwide...|   2020-06-09|2023-04-13|          OPS|System for counti...|\n",
      "|The point of this...|       [Voon Gerard]|      2008-11-20|                 null|                null|                   null|                    null|   CA2642401A1|     CA|                  null|                   null|      null|             [Voon Gerard]|https://worldwide...|   2020-06-09|2010-05-20|          OPS|Computing technol...|\n",
      "|Provided is a ser...|     [Contec Co Ltd]|      2021-08-26|                 null|                null|                   null|                    null|   CA3129009A1|     CA|                  null|                   null|      null|             [Lee Sunghee]|https://worldwide...|   2020-06-09|2021-11-04|          OPS|Method and appara...|\n",
      "|An all-inclusive ...|[Priority claimed...|            null|         [Individual]|        [Individual]|                   null|                    null|   CA3146318A1|     CA|                  null|   [{CN115394392B, 2...|      null|           [Enzo ZELOCCHI]|https://patents.g...|         null|2023-04-27|google patent|Data analytics sy...|\n",
      "|A system for trai...|           [Cae Inc]|      2023-03-07|                 null|                null|                   null|                    null|   CA3192121A1|     CA|                  null|                   null|      null|      [Delisle Jean-Fra...|https://worldwide...|   2020-06-09|2023-07-13|          OPS|Adaptive learning...|\n",
      "|Systems and metho...|[Satisfai Health ...|      2021-10-27|                 null|                null|                   null|                    null|   CA3197076A1|     CA|                  null|                   null|      null|      [Crosby Peter, Re...|https://worldwide...|   2020-06-09|2022-05-05|          OPS|Autonomous and co...|\n",
      "|In one embodiment...|          [Mars Inc]|      2021-12-15|                 null|                null|                   null|                    null|   CA3200491A1|     CA|                  null|                   null|      null|      [Parkinson Mark J...|https://worldwide...|   2020-06-09|2022-06-23|          OPS|Systems and metho...|\n",
      "|Provided is a sin...|[Priority claimed...|            null| [Microsoft Techno...|    [Microsoft Corp]|                   null|    [{DE3126886A1, 19...|  CN101427104A|     CN|  [{CN102456046A, 2...|   [{US9507494B1, 20...|2012-06-13|[A·G·古纳雷斯, A·M·戴凯...|https://patents.g...|         null|2009-05-06|google patent|       Virtual earth|\n",
      "|The invention pro...|[GUANGDONG HEHE D...|            null| [GUANGDONG HEHE D...|[GUANGDONG HEHE D...|                   null|                    null|  CN101833878A|     CN|  [{CN102306460A, 2...|                   null|      null|          [陈玉琪, 王金兰]|https://patents.g...|   2010-03-30|2010-09-15|google patent|Remote video educ...|\n",
      "|A dynamic demonst...|           [Cong Xu]|      2009-09-16|                 null|                null|                   null|                    null|  CN102024360A|     CN|                  null|                   null|      null|                 [Cong Xu]|https://worldwide...|   2020-06-09|2011-04-20|          OPS|Dynamic demonstra...|\n",
      "+--------------------+--------------------+----------------+---------------------+--------------------+-----------------------+------------------------+--------------+-------+----------------------+-----------------------+----------+--------------------------+--------------------+-------------+----------+-------------+--------------------+\n",
      "only showing top 20 rows\n",
      "\n"
     ]
    }
   ],
   "source": [
    "patents.show()"
   ]
  },
  {
   "cell_type": "code",
   "execution_count": 311,
   "id": "9e0fbc73",
   "metadata": {
    "scrolled": true
   },
   "outputs": [
    {
     "name": "stdout",
     "output_type": "stream",
     "text": [
      "root\n",
      " |-- abstract_text: string (nullable = true)\n",
      " |-- applicants: array (nullable = true)\n",
      " |    |-- element: string (containsNull = true)\n",
      " |-- application_date: string (nullable = true)\n",
      " |-- assignee_name_current: array (nullable = true)\n",
      " |    |-- element: string (containsNull = true)\n",
      " |-- assignee_name_orig: array (nullable = true)\n",
      " |    |-- element: string (containsNull = true)\n",
      " |-- backward_cite_no_family: array (nullable = true)\n",
      " |    |-- element: struct (containsNull = true)\n",
      " |    |    |-- patent_number: string (nullable = true)\n",
      " |    |    |-- priority_date: string (nullable = true)\n",
      " |    |    |-- pub_date: string (nullable = true)\n",
      " |-- backward_cite_yes_family: array (nullable = true)\n",
      " |    |-- element: struct (containsNull = true)\n",
      " |    |    |-- patent_number: string (nullable = true)\n",
      " |    |    |-- priority_date: string (nullable = true)\n",
      " |    |    |-- pub_date: string (nullable = true)\n",
      " |-- code: string (nullable = true)\n",
      " |-- country: string (nullable = true)\n",
      " |-- forward_cite_no_family: array (nullable = true)\n",
      " |    |-- element: struct (containsNull = true)\n",
      " |    |    |-- patent_number: string (nullable = true)\n",
      " |    |    |-- priority_date: string (nullable = true)\n",
      " |    |    |-- pub_date: string (nullable = true)\n",
      " |-- forward_cite_yes_family: array (nullable = true)\n",
      " |    |-- element: struct (containsNull = true)\n",
      " |    |    |-- patent_number: string (nullable = true)\n",
      " |    |    |-- priority_date: string (nullable = true)\n",
      " |    |    |-- pub_date: string (nullable = true)\n",
      " |-- grant_date: string (nullable = true)\n",
      " |-- inventor_name: array (nullable = true)\n",
      " |    |-- element: string (containsNull = true)\n",
      " |-- link: string (nullable = true)\n",
      " |-- priority_date: string (nullable = true)\n",
      " |-- pub_date: string (nullable = true)\n",
      " |-- source: string (nullable = true)\n",
      " |-- title: string (nullable = true)\n",
      "\n"
     ]
    }
   ],
   "source": [
    "patents.printSchema()"
   ]
  },
  {
   "cell_type": "code",
   "execution_count": null,
   "id": "f933fe27",
   "metadata": {},
   "outputs": [],
   "source": [
    "from pyspark.sql.types import ArrayType, StructType, StructField, StringType\n",
    "from pyspark.sql.functions import udf\n",
    "\n",
    "def None_list_unk(s):\n",
    "    if s is None:\n",
    "        return [\"unk\"]  \n",
    "    return s\n",
    "udf_none_list_unk=udf(None_list_unk,ArrayType(StringType()))"
   ]
  },
  {
   "cell_type": "code",
   "execution_count": null,
   "id": "fbe85ff4",
   "metadata": {},
   "outputs": [],
   "source": [
    "patents=patents.withColumn(\"assignee_name_current\",udf_none_list_unk(patents_10[\"assignee_name_current\"]))\n",
    "patents=patents.withColumn(\"assignee_name_orig\",udf_none_list_unk(patents_10[\"assignee_name_orig\"]))"
   ]
  },
  {
   "cell_type": "code",
   "execution_count": 312,
   "id": "18d29b6e",
   "metadata": {},
   "outputs": [],
   "source": [
    "patents = patents.coalesce(1)"
   ]
  },
  {
   "cell_type": "code",
   "execution_count": 314,
   "id": "0339096e",
   "metadata": {
    "scrolled": true
   },
   "outputs": [],
   "source": [
    "patents.write.json('transformed_data.json')"
   ]
  },
  {
   "cell_type": "markdown",
   "id": "230c36b0",
   "metadata": {},
   "source": [
    "# Data WareHouse architecture : Star Schema "
   ]
  },
  {
   "cell_type": "markdown",
   "id": "09062195",
   "metadata": {},
   "source": [
    "#### DimPatent\n",
    "- code_patent\n",
    "- title \n",
    "- source\n",
    "- link\n",
    "- abstract\n",
    "\n",
    "#### DimInventor\n",
    "- id_title\n",
    "- title\n",
    "\n",
    "#### DimCountry\n",
    "- id_country\n",
    "- country\n",
    "\n",
    "#### DimInventor\n",
    "- id_inventor\n",
    "- full_name\n",
    "\n",
    "#### DimAssignee\n",
    "- id_assignee\n",
    "- assignee_name\n",
    "- type\n",
    "\n",
    "\n",
    "#### Keyword\n",
    "- id_keyword\n",
    "- keyword\n",
    "\n",
    "#### DimTime\n",
    "- id_time\n",
    "- year\n",
    "- month\n",
    "- day\n",
    "\n",
    "#### FactPublication\n",
    "- id_inventor\n",
    "- id_time\n",
    "- code_patent\n",
    "\n",
    "\n",
    "#### FactGrant\n",
    "- id_assignee.\n",
    "- id_inventor\n",
    "- id_time\n",
    "- code_patent\n",
    "\n",
    "#### FactApplication\n",
    "- id_applicant\n",
    "- id_inventor\n",
    "- id_time\n",
    "- code_patent\n",
    "\n",
    "\n",
    "#### FactPriority\n",
    "- id_inventor\n",
    "- id_time\n",
    "- code_patent\n",
    "\n",
    "#### FactKetword\n",
    "- id_title\n",
    "- id_invontor\n",
    "- id_country\n",
    "- id_time\n",
    "- id_assignee\n",
    "- id_keyword\n",
    "\n"
   ]
  },
  {
   "cell_type": "markdown",
   "id": "33c241f4",
   "metadata": {},
   "source": [
    "### next step : build the data warehouse (data modeling)"
   ]
  },
  {
   "cell_type": "markdown",
   "id": "4d151461",
   "metadata": {},
   "source": [
    "#### Medallion architecture "
   ]
  },
  {
   "cell_type": "markdown",
   "id": "87487fc1",
   "metadata": {},
   "source": [
    "  ![schema](images/medallion_architecture.png)"
   ]
  },
  {
   "cell_type": "markdown",
   "id": "2266f1b6",
   "metadata": {},
   "source": [
    "### Star Schema "
   ]
  },
  {
   "cell_type": "markdown",
   "id": "dcb6c6e8",
   "metadata": {},
   "source": [
    "  ![schema](images/star_schema.png)"
   ]
  },
  {
   "cell_type": "code",
   "execution_count": null,
   "id": "4b251794",
   "metadata": {},
   "outputs": [],
   "source": []
  }
 ],
 "metadata": {
  "kernelspec": {
   "display_name": "Python 3 (ipykernel)",
   "language": "python",
   "name": "python3"
  },
  "language_info": {
   "codemirror_mode": {
    "name": "ipython",
    "version": 3
   },
   "file_extension": ".py",
   "mimetype": "text/x-python",
   "name": "python",
   "nbconvert_exporter": "python",
   "pygments_lexer": "ipython3",
   "version": "3.9.12"
  }
 },
 "nbformat": 4,
 "nbformat_minor": 5
}
