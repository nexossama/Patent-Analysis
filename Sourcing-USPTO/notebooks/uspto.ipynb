{
 "cells": [
  {
   "cell_type": "markdown",
   "metadata": {},
   "source": [
    "#### PatentsView uspto"
   ]
  },
  {
   "cell_type": "code",
   "execution_count": null,
   "metadata": {},
   "outputs": [],
   "source": [
    "import json\n",
    "import requests\n",
    "import urllib.parse\n",
    "\n",
    "\n",
    "endpoint = \"https://api.patentsview.org\"      # address of the PatentsView API\n",
    "route = \"/patents/query\"                      # search route\n",
    "url = endpoint + route\n",
    "\n",
    "\n",
    "fields = [\"patent_number\", \"patent_title\", \"inventor_first_name\", \"inventor_last_name\", \"patent_abstract\", \"assigne_organization\", \"patent_date\"]\n",
    "\n",
    "query = {\n",
    "    \"_and\": [\n",
    "        {\"_text_any\": {\"patent_abstract\": \"AI 'Artificial intelligence' 'Machine Learning' 'Deep Learning'\"}},\n",
    "        {\"_text_any\": {\"patent_abstract\": \"Education\"}}\n",
    "    ]\n",
    "}\n",
    "\n",
    "query = {\n",
    "  \"_and\": [\n",
    "    {\"_text_all\": {\"patent_abstract\": \"education\"}},\n",
    "    {\n",
    "      \"_or\": [\n",
    "        {\"_text_any\": {\"patent_abstract\": \"artificial intelligence\"}},\n",
    "        {\"_text_any\": {\"patent_abstract\": \"machine learning\"}},\n",
    "        {\"_text_any\": {\"patent_abstract\": \"deep learning\"}}\n",
    "      ]\n",
    "    }\n",
    "  ]\n",
    "}\n",
    "\n",
    "encoded_query = urllib.parse.quote(json.dumps(query))\n",
    "\n",
    "final_url = f\"{endpoint}{route}?q={encoded_query}&f={fields}\"\n",
    "\n",
    "final_url = 'https://api.patentsview.org/patents/query?q={\"_or\":[{\"_text_all\":{\"patent_abstract\":\"AI AND Education\"}},{\"_text_any\":{\"patent_abstract\":\"Artificial Intelligence AND Education\"}}]}&f=[\"patent_abstract\"]'\n",
    "response = requests.get(final_url, params=params)\n",
    "response.json()"
   ]
  },
  {
   "cell_type": "code",
   "execution_count": null,
   "metadata": {},
   "outputs": [],
   "source": [
    "# same num of results\n",
    "query = {\n",
    "  \"_and\": [\n",
    "    {\"_text_all\": {\"patent_abstract\": \"education\"}},\n",
    "    {\n",
    "      \"_text_any\": {\n",
    "        \"patent_abstract\": \"(artificial intelligence OR machine learning OR deep learning)\"\n",
    "      }\n",
    "    }\n",
    "  ]\n",
    "}\n"
   ]
  }
 ],
 "metadata": {
  "kernelspec": {
   "display_name": "base",
   "language": "python",
   "name": "python3"
  },
  "language_info": {
   "codemirror_mode": {
    "name": "ipython",
    "version": 3
   },
   "file_extension": ".py",
   "mimetype": "text/x-python",
   "name": "python",
   "nbconvert_exporter": "python",
   "pygments_lexer": "ipython3",
   "version": "3.10.13"
  }
 },
 "nbformat": 4,
 "nbformat_minor": 2
}
